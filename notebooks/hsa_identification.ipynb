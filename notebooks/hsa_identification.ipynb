{
 "cells": [
  {
   "cell_type": "code",
   "execution_count": 36,
   "metadata": {},
   "outputs": [],
   "source": [
    "import pickle\n",
    "import numpy as np\n",
    "import yaml\n",
    "import os\n",
    "from matplotlib import pyplot as plt\n",
    "\n",
    "# read in all the data\n",
    "trial_folder = '/home/joseph/workspaces/hsa_hopper/hsa_hopper_control/data/hsa_identification/2024-05-16_1715893054'\n",
    "with open(os.path.join(trial_folder, 'experiment_config.yaml'), 'r') as f:\n",
    "    experiment_config = yaml.load(f, yaml.Loader)\n",
    "with open(os.path.join(trial_folder, 'hardware_config.yaml'), 'r') as f:\n",
    "    hardware_config = yaml.load(f, yaml.Loader)\n",
    "with open(os.path.join(trial_folder, 'data.pickle'), 'rb') as f:\n",
    "    data = pickle.load(f)"
   ]
  },
  {
   "cell_type": "code",
   "execution_count": 37,
   "metadata": {},
   "outputs": [],
   "source": [
    "from scipy.sparse import bsr_array\n",
    "from scipy.optimize import lsq_linear\n",
    "def calculate_dynamics(x,t):\n",
    "    M = len(t)\n",
    "    # A_rows = np.hstack([np.array([3*i, 3*i, 3*i+1, 3*i+1, 3*i+2, 3*i+2]) for i in range(0,M-2)])\n",
    "    # A_cols = np.hstack([np.array([2*i, 2*i+1, 2*i, 2*i+1, 2*i, 2*i+1]) for i in range(0,M-2)])\n",
    "    A_rows = np.hstack([np.array([2*i, 2*i, 2*i+1, 2*i+1]) for i in range(0,M-2)])\n",
    "    A_cols = np.hstack([np.array([2*i, 2*i+1, 2*i, 2*i+1]) for i in range(0,M-2)]) \n",
    "    A_data = []\n",
    "    # b = np.zeros(3*(M-2))\n",
    "    b = np.zeros(2*(M-2))\n",
    "    for i in range(M-2):\n",
    "        dt = t[i]-t[i-1]\n",
    "        # what was the equation? I think there is a mistake here...\n",
    "        #x[i] = x[i+1]-dt*xdot[i+1]+.5*xdot[i+1]**2\n",
    "        #x[i+2] = x[i+1]+dt*xdot[i+1]+.5*xdot[i+1]**2\n",
    "        # A_data.append([-dt, .5*dt**2, 1, dt, -1, dt, .5*dt**2])\n",
    "        A_data.append([-dt, .5*dt**2, dt, .5*dt**2])\n",
    "        # b[3*i] = x[i]-x[i+1]\n",
    "        b[2*i] = x[i]-x[i+1]\n",
    "        # b[3*i+1] = 0.\n",
    "        # b[3*i+2] = x[i+2]-x[i+1]\n",
    "        b[2*i+1] = x[i+2]-x[i+1]\n",
    "    data = np.hstack(A_data)\n",
    "    A_sparse = bsr_array((data,(A_rows,A_cols)), shape=(2*(M-2),2*(M-2)))\n",
    "    result = lsq_linear(A_sparse, b)\n",
    "    xdot = result.x[0:-1:2]\n",
    "    xddot = result.x[1::2] \n",
    "    return xdot, xddot"
   ]
  },
  {
   "cell_type": "code",
   "execution_count": 38,
   "metadata": {},
   "outputs": [],
   "source": [
    "# downsample the data and fit the dynamics\n",
    "skip = 20\n",
    "x = [np.array(arr[0::skip]) for arr in data['motor_angle']]\n",
    "tau = [np.array(arr[0::skip]) for arr in data['motor_torque']]\n",
    "l = [np.array(arr[0::skip]) for arr in data['hsa_len']]\n",
    "dldx = [np.array(arr[0::skip]) for arr in data['dldtheta']]\n",
    "t = [np.array(arr[0::skip]) for arr in data['times']]\n",
    "psi = data['hsa_angle']\n",
    "xdot = []\n",
    "xddot = []\n",
    "for i in range(len(x)):\n",
    "    _xdot, _xddot = calculate_dynamics(x[i],t[i])\n",
    "    xdot.append(_xdot)\n",
    "    xddot.append(_xddot)"
   ]
  },
  {
   "cell_type": "code",
   "execution_count": 39,
   "metadata": {},
   "outputs": [
    {
     "name": "stdout",
     "output_type": "stream",
     "text": [
      "[45.0, 90.0, 135.0]\n"
     ]
    }
   ],
   "source": [
    "print(psi)"
   ]
  },
  {
   "cell_type": "code",
   "execution_count": 40,
   "metadata": {},
   "outputs": [
    {
     "name": "stdout",
     "output_type": "stream",
     "text": [
      "(2, 36)\n"
     ]
    }
   ],
   "source": [
    "# pick 5 lengths uniformly from each trial\n",
    "Nl = 12\n",
    "l_min = min([min(l[i]) for i in range(len(psi))])\n",
    "l_max = max([max(l[i]) for i in range(len(psi))])\n",
    "\n",
    "y = np.vstack(tuple([[_l, psi[i]] for _l in np.linspace(l_min,l_max, Nl)] for i in range(len(psi)))).T\n",
    "print(y.shape)\n"
   ]
  },
  {
   "cell_type": "code",
   "execution_count": 41,
   "metadata": {},
   "outputs": [],
   "source": [
    "\"\"\"\n",
    "Experimental - fitting two potential functions and blending them together with a logistic function\n",
    "\"\"\"\n",
    "\n",
    "from scipy.optimize import minimize\n",
    "from scipy.optimize import LinearConstraint\n",
    "from hsa_hopper.hsa_model import HSAPotential\n",
    "\n",
    "# logistic function for blending HSA potentials\n",
    "logi = lambda ldot, a: 1/(1+np.exp(-a*ldot))\n",
    "s = 3 # length scale for the Gaussian process regressor\n",
    "a = 10 # width of logistic function\n",
    "v = np.zeros((2,y.shape[1]))\n",
    "model = HSAPotential(v, y, a, s)\n",
    "\n",
    "# stack all the data for access by a common index\n",
    "_x = np.hstack([x[i][1:-1] for i in range(len(x))])\n",
    "_t = np.hstack([t[i][1:-1] for i in range(len(x))])\n",
    "_xdot = np.hstack(xdot)\n",
    "_xddot = np.hstack(xddot)\n",
    "_l = np.hstack([l[i][1:-1] for i in range(len(x))])\n",
    "_dldx = np.hstack([dldx[i][1:-1] for i in range(len(x))])\n",
    "_tau = np.hstack([tau[i][1:-1] for i in range(len(x))])\n",
    "_psi = np.hstack([len(x[i])*[psi[i]] for i in range(len(x))])\n",
    "# thats a pretty damn big system of equations\n",
    "# lets assemble the A-matrix and b-vector\n",
    "N = y.shape[1]\n",
    "M = len(_x)\n",
    "A = np.zeros((M,2*(N+1)))\n",
    "b = np.zeros((M))\n",
    "for i in range(M):\n",
    "    b[i] = _tau[i]\n",
    "    A[i,0] = _xddot[i]\n",
    "    A[i,1] = _xdot[i]\n",
    "    ldot = _dldx[i]*_xdot[i]\n",
    "    z = np.vstack((_l[i],_psi[i]))\n",
    "    dk = model.dk(z)\n",
    "    A[i,2:-1:2] = _dldx[i]*logi(ldot,model.a)*dk[0,:]\n",
    "    A[i,3::2] = _dldx[i]*(1-logi(ldot,model.a))*dk[0,:]\n",
    "        \n",
    "ATA = A.T@A\n",
    "ATb = A.T@_tau\n",
    "bTb = _tau.T@_tau\n",
    "f = lambda x: x.T@ATA@x+bTb-2*x.T@ATb\n",
    "jac = lambda x: 2*ATA@x-2*ATb\n",
    "hess = lambda x: 2*ATA\n",
    "\n",
    "# next constraints - enforce positive weights\n",
    "# and positive definiteness of stiffness at collocation points\n",
    "C = np.zeros((2,2+2*N))\n",
    "# C = np.zeros((2+N,2+N))\n",
    "C[0,0] = 1\n",
    "C[1,1] = 1\n",
    "lb = np.array([1e-3,3e-2])\n",
    "ub = np.array([5e-3,1e-1])\n",
    "# lb = np.zeros(2+N)\n",
    "# for j in range(N):\n",
    "    # z = y[j,:]\n",
    "    # K = [(potential.drho(z,k)@potential.drho(z,k).T-potential.d2rho(z,k))[0,0] for k in range(N)] \n",
    "    # C[2+j,2:] = K\n",
    "\n",
    "constraints = [LinearConstraint(C,lb=lb,ub=ub)]\n",
    "\n",
    "x0 = np.zeros(2+2*N)\n",
    "result = minimize(f, x0, \n",
    "                  jac=jac, \n",
    "                  hess=hess, \n",
    "                  constraints=constraints, \n",
    "                  method='trust-constr',\n",
    "                  options={'maxiter' : 2000})"
   ]
  },
  {
   "cell_type": "code",
   "execution_count": 42,
   "metadata": {},
   "outputs": [
    {
     "name": "stdout",
     "output_type": "stream",
     "text": [
      "           message: `xtol` termination condition is satisfied.\n",
      "           success: True\n",
      "            status: 2\n",
      "               fun: 29.298128978083696\n",
      "                 x: [ 5.000e-03  9.983e-02 ...  4.642e+02  3.261e+02]\n",
      "               nit: 160\n",
      "              nfev: 209\n",
      "              njev: 78\n",
      "              nhev: 78\n",
      "          cg_niter: 2004\n",
      "      cg_stop_cond: 2\n",
      "              grad: [-2.282e+03 -9.566e-01 ... -8.411e-04 -2.038e-03]\n",
      "   lagrangian_grad: [-4.457e-11 -2.676e-08 ... -8.411e-04 -2.038e-03]\n",
      "            constr: [array([ 5.000e-03,  9.983e-02])]\n",
      "               jac: [array([[ 1.000e+00,  0.000e+00, ...,  0.000e+00,\n",
      "                             0.000e+00],\n",
      "                           [ 0.000e+00,  1.000e+00, ...,  0.000e+00,\n",
      "                             0.000e+00]])]\n",
      "       constr_nfev: [0]\n",
      "       constr_njev: [0]\n",
      "       constr_nhev: [0]\n",
      "                 v: [array([ 2.282e+03,  9.566e-01])]\n",
      "            method: tr_interior_point\n",
      "        optimality: 0.003072976140245487\n",
      "  constr_violation: 0.0\n",
      "    execution_time: 0.2736492156982422\n",
      "         tr_radius: 1.0000000000000005e-09\n",
      "    constr_penalty: 1.0\n",
      " barrier_parameter: 2.048000000000001e-09\n",
      " barrier_tolerance: 2.048000000000001e-09\n",
      "             niter: 160\n",
      "R2 = 0.9833172937282293\n"
     ]
    }
   ],
   "source": [
    "# model.v = result.x[2:]\n",
    "model.v[0,:] = result.x[2:-1:2]\n",
    "model.v[1,:] = result.x[3::2]\n",
    "with open(os.path.join('hsa_model.yaml'), 'w') as f:\n",
    "    yaml.dump(model.attribute_dict(), f, yaml.Dumper)\n",
    "print(result)\n",
    "print(f'R2 = {1-result.fun/np.sum((b-np.average(b))**2)}')"
   ]
  },
  {
   "cell_type": "code",
   "execution_count": 45,
   "metadata": {},
   "outputs": [
    {
     "data": {
      "text/plain": [
       "<matplotlib.legend.Legend at 0x726242a72290>"
      ]
     },
     "execution_count": 45,
     "metadata": {},
     "output_type": "execute_result"
    },
    {
     "data": {
      "image/png": "[encoded data removed]",
      "text/plain": [
       "<Figure size 640x480 with 1 Axes>"
      ]
     },
     "metadata": {},
     "output_type": "display_data"
    }
   ],
   "source": [
    "# pick a trajectory to plot this shitshow\n",
    "\n",
    "for idx in range(len(psi)):\n",
    "# for idx in [0,1,2,3]:\n",
    "    _psi = psi[idx]\n",
    "    _x = x[idx][1:-1]\n",
    "    _xdot = xdot[idx]\n",
    "    _dldx = dldx[idx][1:-1]\n",
    "    _l = l[idx][1:-1]\n",
    "    _ldot = _dldx*_xdot\n",
    "    _z = np.array([[_l[i],_psi] for i in range(_l.shape[0])])\n",
    "    _F = np.array([model.dV(_l[i],_psi,_ldot[i]) for i in range(_l.shape[0])])\n",
    "    # plt.plot(180/np.pi*_x,_F,label=f'psi={_psi} degrees')\n",
    "    plt.plot(100*_l,_F,label=f'psi={_psi} degrees')\n",
    "plt.xlabel('HSA Length')\n",
    "plt.ylabel('Force')\n",
    "plt.legend()"
   ]
  },
  {
   "cell_type": "raw",
   "metadata": {},
   "source": [
    "print(_F)"
   ]
  },
  {
   "cell_type": "code",
   "execution_count": 44,
   "metadata": {},
   "outputs": [
    {
     "ename": "NameError",
     "evalue": "name 'potential2' is not defined",
     "output_type": "error",
     "traceback": [
      "\u001b[0;31m---------------------------------------------------------------------------\u001b[0m",
      "\u001b[0;31mNameError\u001b[0m                                 Traceback (most recent call last)",
      "Cell \u001b[0;32mIn[44], line 10\u001b[0m\n\u001b[1;32m      8\u001b[0m     motor_angles \u001b[38;5;241m=\u001b[39m np\u001b[38;5;241m.\u001b[39mlinspace(\u001b[38;5;28mmin\u001b[39m(x[i]),\u001b[38;5;28mmax\u001b[39m(x[i]),\u001b[38;5;241m100\u001b[39m)\n\u001b[1;32m      9\u001b[0m     z \u001b[38;5;241m=\u001b[39m np\u001b[38;5;241m.\u001b[39marray([[l, _psi] \u001b[38;5;28;01mfor\u001b[39;00m l \u001b[38;5;129;01min\u001b[39;00m hsa_lens])\n\u001b[0;32m---> 10\u001b[0m     ax\u001b[38;5;241m.\u001b[39mplot(z[:,\u001b[38;5;241m0\u001b[39m]\u001b[38;5;241m*\u001b[39m\u001b[38;5;241m100\u001b[39m, \u001b[43m[\u001b[49m\u001b[43mpotential2\u001b[49m\u001b[38;5;241;43m.\u001b[39;49m\u001b[43mdV\u001b[49m\u001b[43m(\u001b[49m\u001b[43mz\u001b[49m\u001b[43m[\u001b[49m\u001b[43mi\u001b[49m\u001b[43m,\u001b[49m\u001b[43m:\u001b[49m\u001b[43m]\u001b[49m\u001b[43m)\u001b[49m\u001b[43m[\u001b[49m\u001b[38;5;241;43m0\u001b[39;49m\u001b[43m]\u001b[49m\u001b[43m \u001b[49m\u001b[38;5;28;43;01mfor\u001b[39;49;00m\u001b[43m \u001b[49m\u001b[43mi\u001b[49m\u001b[43m \u001b[49m\u001b[38;5;129;43;01min\u001b[39;49;00m\u001b[43m \u001b[49m\u001b[38;5;28;43mrange\u001b[39;49m\u001b[43m(\u001b[49m\u001b[38;5;28;43mlen\u001b[39;49m\u001b[43m(\u001b[49m\u001b[43mhsa_lens\u001b[49m\u001b[43m)\u001b[49m\u001b[43m)\u001b[49m\u001b[43m]\u001b[49m, label\u001b[38;5;241m=\u001b[39m\u001b[38;5;124mf\u001b[39m\u001b[38;5;124m'\u001b[39m\u001b[38;5;124mpsi = \u001b[39m\u001b[38;5;132;01m{\u001b[39;00m(_psi)\u001b[38;5;132;01m:\u001b[39;00m\u001b[38;5;124m.1f\u001b[39m\u001b[38;5;132;01m}\u001b[39;00m\u001b[38;5;124m deg\u001b[39m\u001b[38;5;124m'\u001b[39m)\n\u001b[1;32m     11\u001b[0m     \u001b[38;5;66;03m# ax.plot(180/np.pi*motor_angles, [potential2.dV(z[i,:])[0] for i in range(len(hsa_lens))], label=f'psi = {(_psi):.1f} deg')\u001b[39;00m\n\u001b[1;32m     12\u001b[0m ax\u001b[38;5;241m.\u001b[39mset_title(\u001b[38;5;124m'\u001b[39m\u001b[38;5;124mLinear Force vs HSA Length\u001b[39m\u001b[38;5;124m'\u001b[39m)\n",
      "Cell \u001b[0;32mIn[44], line 10\u001b[0m, in \u001b[0;36m<listcomp>\u001b[0;34m(.0)\u001b[0m\n\u001b[1;32m      8\u001b[0m     motor_angles \u001b[38;5;241m=\u001b[39m np\u001b[38;5;241m.\u001b[39mlinspace(\u001b[38;5;28mmin\u001b[39m(x[i]),\u001b[38;5;28mmax\u001b[39m(x[i]),\u001b[38;5;241m100\u001b[39m)\n\u001b[1;32m      9\u001b[0m     z \u001b[38;5;241m=\u001b[39m np\u001b[38;5;241m.\u001b[39marray([[l, _psi] \u001b[38;5;28;01mfor\u001b[39;00m l \u001b[38;5;129;01min\u001b[39;00m hsa_lens])\n\u001b[0;32m---> 10\u001b[0m     ax\u001b[38;5;241m.\u001b[39mplot(z[:,\u001b[38;5;241m0\u001b[39m]\u001b[38;5;241m*\u001b[39m\u001b[38;5;241m100\u001b[39m, [\u001b[43mpotential2\u001b[49m\u001b[38;5;241m.\u001b[39mdV(z[i,:])[\u001b[38;5;241m0\u001b[39m] \u001b[38;5;28;01mfor\u001b[39;00m i \u001b[38;5;129;01min\u001b[39;00m \u001b[38;5;28mrange\u001b[39m(\u001b[38;5;28mlen\u001b[39m(hsa_lens))], label\u001b[38;5;241m=\u001b[39m\u001b[38;5;124mf\u001b[39m\u001b[38;5;124m'\u001b[39m\u001b[38;5;124mpsi = \u001b[39m\u001b[38;5;132;01m{\u001b[39;00m(_psi)\u001b[38;5;132;01m:\u001b[39;00m\u001b[38;5;124m.1f\u001b[39m\u001b[38;5;132;01m}\u001b[39;00m\u001b[38;5;124m deg\u001b[39m\u001b[38;5;124m'\u001b[39m)\n\u001b[1;32m     11\u001b[0m     \u001b[38;5;66;03m# ax.plot(180/np.pi*motor_angles, [potential2.dV(z[i,:])[0] for i in range(len(hsa_lens))], label=f'psi = {(_psi):.1f} deg')\u001b[39;00m\n\u001b[1;32m     12\u001b[0m ax\u001b[38;5;241m.\u001b[39mset_title(\u001b[38;5;124m'\u001b[39m\u001b[38;5;124mLinear Force vs HSA Length\u001b[39m\u001b[38;5;124m'\u001b[39m)\n",
      "\u001b[0;31mNameError\u001b[0m: name 'potential2' is not defined"
     ]
    },
    {
     "data": {
      "image/png": "[encoded data removed]",
      "text/plain": [
       "<Figure size 640x480 with 1 Axes>"
      ]
     },
     "metadata": {},
     "output_type": "display_data"
    }
   ],
   "source": [
    "# plot this potential function for a range of theta values, fix psi = 0.\n",
    "\n",
    "# for i in range(len(psi)):\n",
    "fig, ax = plt.subplots()\n",
    "for i in range(0,len(psi)):\n",
    "    _psi = psi[i]\n",
    "    hsa_lens = np.linspace(min(l[i]), max(l[i]), 100)\n",
    "    motor_angles = np.linspace(min(x[i]),max(x[i]),100)\n",
    "    z = np.array([[l, _psi] for l in hsa_lens])\n",
    "    ax.plot(z[:,0]*100, [potential2.dV(z[i,:])[0] for i in range(len(hsa_lens))], label=f'psi = {(_psi):.1f} deg')\n",
    "    # ax.plot(180/np.pi*motor_angles, [potential2.dV(z[i,:])[0] for i in range(len(hsa_lens))], label=f'psi = {(_psi):.1f} deg')\n",
    "ax.set_title('Linear Force vs HSA Length')\n",
    "ax.set_xlabel('Length (cm)')\n",
    "ax.set_ylabel('Force (N)')\n",
    "\n",
    "xmin = min(min(line.get_xdata()) for line in ax.lines)\n",
    "xmax = max(max(line.get_xdata()) for line in ax.lines)\n",
    "ymin = min(min(line.get_ydata()) for line in ax.lines)\n",
    "ymax = max(max(line.get_ydata()) for line in ax.lines)\n",
    "ax.fill_between([xmin, 12], [ymin, ymin], [ymax, ymax], color='r', alpha=.15, label='non-linear compression')\n",
    "ax.fill_between([12,16], [ymin, ymin], [ymax, ymax], color='b', alpha=.15, label='quasi-linear region')\n",
    "ax.fill_between([16,xmax], [ymin, ymin], [ymax, ymax], color='g', alpha=.15, label='non-linear extension')\n",
    "ax.grid()\n",
    "ax.legend()"
   ]
  },
  {
   "cell_type": "code",
   "execution_count": null,
   "metadata": {},
   "outputs": [],
   "source": [
    "fig, ax = plt.subplots()\n",
    "# for i in range(len(psi)):\n",
    "for i in range(0,len(psi),2):\n",
    "    print(i)\n",
    "    _psi = psi[i]\n",
    "    hsa_lens = np.linspace(min(l[i]), max(l[i]), 100)\n",
    "    motor_angles = np.linspace(min(x[i]),max(x[i]),100)\n",
    "    z = np.array([[l, _psi] for l in hsa_lens])\n",
    "    ax.plot(100*z[:,0], [potential.V(z[i,:]) for i in range(len(hsa_lens))], label=f'psi = {_psi:.1f} deg')\n",
    "ax.set_title('Change in Energy vs HSA Length')\n",
    "ax.set_xlabel('HSA length')\n",
    "ax.set_ylabel('Joules')\n",
    "for i, line in enumerate(ax.lines):\n",
    "    ydata = np.array(line.get_ydata())\n",
    "    ydata -= np.min(ydata)\n",
    "    line.set_ydata(ydata)\n",
    "ymin = min(min(line.get_ydata()) for line in ax.lines)\n",
    "ymax = max(max(line.get_ydata()) for line in ax.lines)\n",
    "ax.fill_between([xmin, 12], [ymin, ymin], [ymax, ymax], color='r', alpha=.15, label='non-linear compressoin')\n",
    "ax.fill_between([12,16], [ymin, ymin], [ymax, ymax], color='b', alpha=.15, label='quasi-linear region')\n",
    "ax.fill_between([16,xmax], [ymin, ymin], [ymax, ymax], color='g', alpha=.15, label='non-linear extension')\n",
    "ax.set_ylim([ymin-.1, ymax+.1])\n",
    "# ax.legend(loc=[.35,.45])\n",
    "ax.legend()"
   ]
  },
  {
   "cell_type": "code",
   "execution_count": null,
   "metadata": {},
   "outputs": [],
   "source": [
    "# print an energy heatmap\n",
    "l_vec = np.linspace(.16,.18,20)\n",
    "psi_vec = np.linspace(-61*np.pi/180,-30*np.pi/180, 20)\n",
    "X,Y  = np.meshgrid(l_vec,psi_vec)\n",
    "# Z1 = np.array([[ potential.V(np.array([X[i,j],Y[i,j]])) for j in range(X.shape[1])] for i in range(X.shape[0])])\n",
    "Z2 = np.array([[ potential.dV(np.array([X[i,j],Y[i,j]]))[0] for j in range(X.shape[1])] for i in range(X.shape[0])])\n",
    "Z3 = np.array([[ potential.d2V(np.array([X[i,j],Y[i,j]]))[0,0] for j in range(X.shape[1])] for i in range(X.shape[0])])\n",
    "Z3 = np.clip(Z3, 1, np.inf)"
   ]
  },
  {
   "cell_type": "code",
   "execution_count": null,
   "metadata": {},
   "outputs": [],
   "source": [
    "from matplotlib.colors import LogNorm\n",
    "fig, ax = plt.subplots(nrows = 2, ncols = 1, figsize=(6,10))\n",
    "CS11 = ax[0].contour(100*X,180*Y/np.pi,Z2, cmap='Reds')\n",
    "CS12 = ax[0].contourf(100*X,180*Y/np.pi,Z2, cmap='Reds')\n",
    "CS21 = ax[1].contour(100*X,180*Y/np.pi,Z3, cmap='Reds',)\n",
    "CS22 = ax[1].contourf(100*X,180*Y/np.pi,Z3, cmap='Reds',)\n",
    "ax[0].set_title('Force and Stiffness, Large Extension at Large Torsion')\n",
    "ax[0].set_ylabel('Twist (deg)')\n",
    "ax[1].set_ylabel('Twist (deg)')\n",
    "ax[0].set_xlabel('HSA Length (cm)')\n",
    "ax[1].set_xlabel('HSA Length (cm)')\n",
    "fig.colorbar(CS12, label='Force (N)')\n",
    "fig.colorbar(CS22, label='Stiffness (N/m)')"
   ]
  },
  {
   "cell_type": "code",
   "execution_count": null,
   "metadata": {},
   "outputs": [],
   "source": [
    "from scipy.optimize import root_scalar\n",
    "# code to find rest length of HSA as a function of twist\n",
    "\n",
    "def R(psi, bracket):\n",
    "    f = lambda l, psi: potential.dV(np.array([l, psi]))[0]\n",
    "    sol = root_scalar(f, (psi,), method='bisect', bracket=bracket, xtol = 1e-9)\n",
    "    return sol.root"
   ]
  },
  {
   "cell_type": "code",
   "execution_count": null,
   "metadata": {},
   "outputs": [],
   "source": [
    "from scipy.optimize import minimize, LinearConstraint\n",
    "omega = (5*np.pi)\n",
    "mass = np.array([1.2, 1.8, 2.2])\n",
    "E = np.array([m*9.81*.04 for m in mass])\n",
    "K_sys = np.array([m*omega**2 for m in mass])\n",
    "K_ground = np.array([10000, 5000, 2000, 1000])\n",
    "K_leg = np.array([[1/(1/K1-1/K2) for K2 in K_ground] for K1 in K_sys])\n",
    "dx = np.array([\n",
    "    [np.sqrt(2*E[i]/K_leg[i,j]/(1+K_leg[i,j]/K_ground[j])) for j in range(len(K_ground))] \n",
    "    for i in range(len(E))\n",
    "])\n",
    "E_leg = np.array([\n",
    "    [.5*K_leg[i,j]*dx[i,j]**2 for j in range(dx.shape[1])]\n",
    "    for i in range(dx.shape[0])\n",
    "])\n",
    "\n",
    "# lots and lots of analysis\n",
    "def F(z, dx, E_leg):\n",
    "    # get rest length\n",
    "    l0 = z[0]\n",
    "    l1 = l0 + dx\n",
    "    z0 = np.array([l0, z[1]])\n",
    "    z1 = np.array([l1, z[1]])\n",
    "    E = potential.V(z1)-potential.V(z0)\n",
    "    f = (E - E_leg)**2\n",
    "\n",
    "    # calculate gradient wrt psi\n",
    "    dE = potential.dV(z1)-potential.dV(z0)\n",
    "    return f, 2*(E-E_leg)*dE\n",
    "\n",
    "result = np.zeros((2,*dx.shape))\n",
    "for i in range(dx.shape[0]):\n",
    "    for j in range(dx.shape[1]):\n",
    "        z0 = [R(0., [.11,.18]),10*np.pi/180]\n",
    "        constraints = [\n",
    "            LinearConstraint(np.array([1,0]),lb=.1,ub=.1825-dx[i,j]),\n",
    "            LinearConstraint(np.array([0,1]),lb=-60*np.pi/180,ub=np.pi/4)\n",
    "        ]\n",
    "        sol = minimize(F,z0,args=(dx[i,j],E_leg[i,j]),method='SLSQP',jac=True,constraints=constraints)\n",
    "        result[:,i,j] = sol.x\n",
    "        print(sol)\n"
   ]
  },
  {
   "cell_type": "code",
   "execution_count": null,
   "metadata": {},
   "outputs": [],
   "source": [
    "# print(sol.x*180/np.pi)\n",
    "# print(R(sol.x, [.1,.18])+dx[1,2])\n",
    "print(result[0,:,:])\n",
    "print(result[0,:,:]+dx)\n",
    "print(result[1,:,:]*180/np.pi)"
   ]
  }
 ],
 "metadata": {
  "kernelspec": {
   "display_name": "Python 3 (ipykernel)",
   "language": "python",
   "name": "python3"
  },
  "language_info": {
   "codemirror_mode": {
    "name": "ipython",
    "version": 3
   },
   "file_extension": ".py",
   "mimetype": "text/x-python",
   "name": "python",
   "nbconvert_exporter": "python",
   "pygments_lexer": "ipython3",
   "version": "3.11.8"
  }
 },
 "nbformat": 4,
 "nbformat_minor": 4
}
