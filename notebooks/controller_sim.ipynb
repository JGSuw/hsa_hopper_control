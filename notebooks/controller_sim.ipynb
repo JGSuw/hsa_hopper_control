{
 "cells": [
  {
   "cell_type": "code",
   "execution_count": 1,
   "id": "4491b128-c1b0-4cd2-aa00-497204cdc7e3",
   "metadata": {},
   "outputs": [],
   "source": [
    "import numpy as np\n",
    "from matplotlib import pyplot as plt\n",
    "import yaml\n",
    "from hsa_hopper.collocation import PiecewiseInterpolation\n",
    "import hsa_hopper.dynamics\n",
    "from hsa_hopper.controller import HopController\n",
    "from hsa_hopper.kinematics import KinematicParameters, forward_kinematics"
   ]
  },
  {
   "cell_type": "code",
   "execution_count": 2,
   "id": "b2be5296-8b6f-45f6-b12c-b69325fc8eb1",
   "metadata": {},
   "outputs": [],
   "source": [
    "x_td = -35*np.pi/180\n",
    "with open('no_hsa_hop_start.yaml') as f: \n",
    "    startup_params = yaml.load(f,yaml.Loader)\n",
    "with open('no_hsa_stance_controller.yaml') as f:\n",
    "    stance_params = yaml.load(f,yaml.Loader)\n",
    "kp = [\n",
    "    startup_params['Kx'],\n",
    "    5.,\n",
    "    stance_params['Kx']\n",
    "]\n",
    "kd = [\n",
    "    .01,\n",
    "     .01,\n",
    "    .01\n",
    "]\n",
    "x0 = [\n",
    "    startup_params['x0'],\n",
    "    stance_params['x0']-1*np.pi/180,\n",
    "    stance_params['x0']\n",
    "]\n",
    "u_interp = [\n",
    "    PiecewiseInterpolation.make_from_dict(startup_params['u_interp']),\n",
    "    None,\n",
    "    PiecewiseInterpolation.make_from_dict(stance_params['u_interp'])\n",
    "]\n",
    "controller = HopController(kp,kd,x0,u_interp,x_td)"
   ]
  },
  {
   "cell_type": "code",
   "execution_count": 3,
   "id": "1a58b1af-0ac3-4145-9a10-f4877d24f59a",
   "metadata": {},
   "outputs": [],
   "source": [
    "\"\"\"\n",
    "Simulation method - simple forward euler\n",
    "\"\"\"\n",
    "from scipy.optimize import root_scalar\n",
    "def euler_sim(\n",
    "    initial_state,\n",
    "    initial_mode,\n",
    "    t0,\n",
    "    tf,\n",
    "    dt,\n",
    "    dynamics_params,\n",
    "    kinematic_params,\n",
    "    controller,\n",
    "    restitution = .8\n",
    "):\n",
    "    state = [initial_state]\n",
    "    mode = [initial_mode]\n",
    "    t = [t0]\n",
    "    while t[-1] < tf:\n",
    "        # print(controller.mode)\n",
    "        if mode[-1] == HopController._STANCE or mode[-1] == HopController._STARTUP:\n",
    "            # controller output\n",
    "            _kp, _kd, _x0, _u = controller.output(t[-1])\n",
    "            dynamics_params.m = robot_mass\n",
    "            dynamics_params.bx = _kd\n",
    "            dynamics_params.Kx = _kp\n",
    "            dynamics_params.x0 = _x0\n",
    "            \n",
    "            # stance dynamics\n",
    "            x_accel = hsa_hopper.dynamics.evaluate(\n",
    "                state[-1][0],\n",
    "                state[-1][1],\n",
    "                _u,\n",
    "                dynamics_params\n",
    "            )\n",
    "  \n",
    "            _x = state[-1][0]+state[-1][1]*dt + .5*x_accel*dt**2\n",
    "            _xdot = state[-1][1] + x_accel*dt\n",
    "            f, df = forward_kinematics(kinematic_params, _x, jacobian=True)\n",
    "            _y, _ydot = f[0], df[0]*_xdot\n",
    "            _t = t[-1]+dt\n",
    "            controller.update(_x, _t)\n",
    "            mode.append(controller.mode)\n",
    "            state.append(np.array([_x,_xdot,_y,_ydot]))\n",
    "            t.append(_t)\n",
    "                \n",
    "        elif mode[-1] == HopController._FLIGHT:\n",
    "            # controller output\n",
    "            _kp, _kd, _x0, _u = controller.output(t[-1])\n",
    "            dynamics_params.bx = _kd\n",
    "            dynamics_params.Kx = _kp\n",
    "            dynamics_params.x0 = _x0\n",
    "            dynamics_params.m = 0\n",
    "            dynamics_params.by = 0\n",
    "            x_accel = hsa_hopper.dynamics.evaluate(\n",
    "                state[-1][0],\n",
    "                state[-1][1],\n",
    "                _u,\n",
    "                dynamics_params\n",
    "            )\n",
    "            _x = state[-1][0] + state[-1][1]*dt + .5*x_accel*dt**2\n",
    "            _xdot = state[-1][1] + x_accel*dt\n",
    "            _y = state[-1][2]+dt*state[-1][3]-.5*9.81*dt**2\n",
    "            _ydot = state[-1][3]-dt*9.81\n",
    "            _t = t[-1]+dt\n",
    "            controller.update(_x, _t)\n",
    "            mode.append(controller.mode)\n",
    "            state.append(np.array([_x,_xdot,_y,_ydot]))\n",
    "            t.append(_t)\n",
    "    return state, mode, t\n",
    "                \n",
    "    "
   ]
  },
  {
   "cell_type": "code",
   "execution_count": 4,
   "id": "173e4260-eda8-4bb4-81f4-a2994124b727",
   "metadata": {},
   "outputs": [
    {
     "name": "stdout",
     "output_type": "stream",
     "text": [
      "0\n"
     ]
    }
   ],
   "source": [
    "\"\"\"\n",
    "Set up intiial conditions, simulation parameters\n",
    "\"\"\"\n",
    "kinematic_params = KinematicParameters(.07,.15,.3,0.)\n",
    "robot_mass = 1.2\n",
    "motor_inertia = .01\n",
    "dynamics_params = hsa_hopper.dynamics.DynamicsParameters(\n",
    "    robot_mass,\n",
    "    motor_inertia,\n",
    "    None,\n",
    "    0.,\n",
    "    None,\n",
    "    None,\n",
    "    kinematic_params\n",
    ")\n",
    "t0 = 0.\n",
    "tf = .35\n",
    "dt = 1e-3\n",
    "controller.initialize(t0)\n",
    "x = -15*np.pi/180\n",
    "y = forward_kinematics(kinematic_params, x)[0]\n",
    "initial_state = np.array([x,0.,y,0])\n",
    "initial_mode = controller.mode\n",
    "print(initial_mode)\n",
    "state, mode, time = euler_sim(initial_state, initial_mode, t0, tf, dt, dynamics_params, kinematic_params, controller)\n",
    "state = np.vstack(state)"
   ]
  },
  {
   "cell_type": "code",
   "execution_count": 5,
   "id": "03831d55-80a6-4796-8094-7691632d3789",
   "metadata": {},
   "outputs": [
    {
     "data": {
      "text/plain": [
       "[<matplotlib.lines.Line2D at 0x7f3f7a0e90>]"
      ]
     },
     "execution_count": 5,
     "metadata": {},
     "output_type": "execute_result"
    },
    {
     "data": {
      "image/png": "[encoded data removed]",
      "text/plain": [
       "<Figure size 640x480 with 1 Axes>"
      ]
     },
     "metadata": {},
     "output_type": "display_data"
    }
   ],
   "source": [
    "# plt.plot(time, state[:,0])\n",
    "# plt.plot(time, np.array(mode)*.0)\n",
    "plt.plot(time,state[:,2])\n",
    "# plt.plot(time,state[:,0]*180/np.pi)\n",
    "# print(controller.mode)\n"
   ]
  },
  {
   "cell_type": "code",
   "execution_count": 6,
   "id": "b640c6d9-5fa6-40f1-97e5-3afe48ed7b22",
   "metadata": {},
   "outputs": [
    {
     "data": {
      "text/plain": [
       "array([0.17875789, 0.12124211])"
      ]
     },
     "execution_count": 6,
     "metadata": {},
     "output_type": "execute_result"
    }
   ],
   "source": [
    "forward_kinematics(kinematic_params,-35*np.pi/180)"
   ]
  },
  {
   "cell_type": "code",
   "execution_count": null,
   "id": "f7195450-1c12-48ca-99e0-287e23fada55",
   "metadata": {},
   "outputs": [],
   "source": []
  }
 ],
 "metadata": {
  "kernelspec": {
   "display_name": "Python 3 (ipykernel)",
   "language": "python",
   "name": "python3"
  },
  "language_info": {
   "codemirror_mode": {
    "name": "ipython",
    "version": 3
   },
   "file_extension": ".py",
   "mimetype": "text/x-python",
   "name": "python",
   "nbconvert_exporter": "python",
   "pygments_lexer": "ipython3",
   "version": "3.11.2"
  }
 },
 "nbformat": 4,
 "nbformat_minor": 5
}
